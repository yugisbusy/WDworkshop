{
  "nbformat": 4,
  "nbformat_minor": 0,
  "metadata": {
    "colab": {
      "provenance": [],
      "authorship_tag": "ABX9TyOSoGpPDNWRochzdXtw3Fsy",
      "include_colab_link": true
    },
    "kernelspec": {
      "name": "python3",
      "display_name": "Python 3"
    },
    "language_info": {
      "name": "python"
    }
  },
  "cells": [
    {
      "cell_type": "markdown",
      "metadata": {
        "id": "view-in-github",
        "colab_type": "text"
      },
      "source": [
        "<a href=\"https://colab.research.google.com/github/yugisbusy/WDworkshop/blob/main/202401100700218_C.ipynb\" target=\"_parent\"><img src=\"https://colab.research.google.com/assets/colab-badge.svg\" alt=\"Open In Colab\"/></a>"
      ]
    },
    {
      "cell_type": "code",
      "execution_count": 1,
      "metadata": {
        "colab": {
          "base_uri": "https://localhost:8080/",
          "height": 0
        },
        "id": "0OpuesfPHxD5",
        "outputId": "97225e12-6a4c-41fd-ebc5-c83b7c56ab90"
      },
      "outputs": [
        {
          "output_type": "stream",
          "name": "stdout",
          "text": [
            "ALERT: Temperature 38.75 is above limit 35.00!\n",
            "ALERT: Temperature 21.44 is below limit 25.00!\n",
            "ALERT: Temperature 39.06 is above limit 35.00!\n",
            "ALERT: Temperature 24.11 is below limit 25.00!\n",
            "ALERT: Temperature 36.35 is above limit 35.00!\n",
            "ALERT: Temperature 36.61 is above limit 35.00!\n"
          ]
        }
      ],
      "source": [
        "import random\n",
        "\n",
        "def monitor_temperature(temp, low, high, alert):\n",
        "    if temp < low or temp > high:\n",
        "        alert(temp, low, high)\n",
        "\n",
        "def alert(temp, low, high):\n",
        "    print(f\"ALERT: Temperature {temp:.2f} is {'below' if temp < low else 'above'} limit {low if temp < low else high:.2f}!\")\n",
        "\n",
        "def random_temp(low=20, high=40):\n",
        "    return random.uniform(low, high)\n",
        "\n",
        "low, high = 25.0, 35.0\n",
        "for _ in range(10):\n",
        "    monitor_temperature(random_temp(), low, high, alert)"
      ]
    }
  ]
}