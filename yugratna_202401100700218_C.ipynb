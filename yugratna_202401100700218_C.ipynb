{
  "nbformat": 4,
  "nbformat_minor": 0,
  "metadata": {
    "colab": {
      "provenance": [],
      "authorship_tag": "ABX9TyNOCKygr1KwbY5DCeL2bjZo",
      "include_colab_link": true
    },
    "kernelspec": {
      "name": "python3",
      "display_name": "Python 3"
    },
    "language_info": {
      "name": "python"
    }
  },
  "cells": [
    {
      "cell_type": "markdown",
      "metadata": {
        "id": "view-in-github",
        "colab_type": "text"
      },
      "source": [
        "<a href=\"https://colab.research.google.com/github/yugisbusy/WDworkshop/blob/main/yugratna_202401100700218_C.ipynb\" target=\"_parent\"><img src=\"https://colab.research.google.com/assets/colab-badge.svg\" alt=\"Open In Colab\"/></a>"
      ]
    },
    {
      "cell_type": "code",
      "execution_count": null,
      "metadata": {
        "id": "Wlk6g98cHAiP"
      },
      "outputs": [],
      "source": [
        "GROCERY STORE CALCULATOR"
      ]
    },
    {
      "cell_type": "code",
      "source": [
        "n=int(input(\"Number of items\"))\n",
        "total_cost=0\n",
        "for i in range(n):\n",
        "    item = input(f\"Enter name of item {i+1}: \")\n",
        "    quantity = float(input(f\"Enter quantity of {item}: \"))\n",
        "    price_per_unit = float(input(f\"Enter price per unit of {item}: \"))\n",
        "    cost = quantity * price_per_unit\n",
        "    total_cost += cost\n",
        "    print(f\"{item}: {quantity} x {price_per_unit} = {cost:.2f}\\n\")\n",
        "print(f\"Total Bill: {total_cost:.2f}\")\n",
        "GST=18\n",
        "GST_AMOUNT=(GST/100)*total_cost\n",
        "final_bill2=total_cost+GST_AMOUNT\n",
        "print(f\"Final Amount after adding GST {final_bill2:.2f}\")\n",
        "if(final_bill2>100):\n",
        "  discount=20\n",
        "  discount_amount = (discount/ 100) * final_bill2\n",
        "  final_bill = final_bill2 - discount_amount\n",
        "  print(f\"Discount Applied: {discount_amount:.2f}\")\n",
        "  print(f\"Final Amount after Discount: {final_bill:.2f}\")\n",
        "elif(final_bill2>200):\n",
        "  discount=40\n",
        "  discount_amount = (discount/ 100) * final_bill2\n",
        "  final_bill = final_bill2 - discount_amount\n",
        "  print(f\"Discount Applied: {discount_amount:.2f}\")\n",
        "  print(f\"Final Amount after Discount: {final_bill:.2f}\")\n",
        "elif(final_bill2>300):\n",
        "  discount=40\n",
        "  discount_amount = (discount/ 100) * final_bill2\n",
        "  final_bill = final_bill2 - discount_amount\n",
        "  print(f\"Discount Applied: {discount_amount:.2f}\")\n",
        "  print(f\"Final Amount after Discount: {final_bill:.2f}\")\n",
        "else:\n",
        "  discount=50\n",
        "  discount_amount = (discount/ 100) * final_bill2\n",
        "  final_bill = final_bill2 - discount_amount\n",
        "  print(f\"Discount Applied: {discount_amount:.2f}\")\n",
        "  print(f\"Final Amount after Discount: {final_bill:.2f}\")"
      ],
      "metadata": {
        "colab": {
          "base_uri": "https://localhost:8080/"
        },
        "id": "1gVRW-wOHP83",
        "outputId": "6ac350ac-0b16-4b06-9f72-b0b6a4abb60d"
      },
      "execution_count": 22,
      "outputs": [
        {
          "output_type": "stream",
          "name": "stdout",
          "text": [
            "Number of items2\n",
            "Enter name of item 1: Soap\n",
            "Enter quantity of Soap: 2\n",
            "Enter price per unit of Soap: 10\n",
            "Soap: 2.0 x 10.0 = 20.00\n",
            "\n",
            "Enter name of item 2: pen\n",
            "Enter quantity of pen: 2\n",
            "Enter price per unit of pen: 10\n",
            "pen: 2.0 x 10.0 = 20.00\n",
            "\n",
            "Total Bill: 40.00\n",
            "Final Amount after adding GST 47.20\n",
            "Discount Applied: 23.60\n",
            "Final Amount after Discount: 23.60\n"
          ]
        }
      ]
    },
    {
      "cell_type": "code",
      "source": [],
      "metadata": {
        "id": "2J9TcCkIJKcV"
      },
      "execution_count": null,
      "outputs": []
    }
  ]
}